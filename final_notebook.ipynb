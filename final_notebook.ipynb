{
 "cells": [
  {
   "cell_type": "markdown",
   "metadata": {},
   "source": [
    "## Water Quality Data Analysis\n",
    "### ENERES 131: Final Project\n",
    "Team Members: Nidhi Nayak, Vishali Kirthi Vallioor, Damaris Arteaga, Timothy Zheng"
   ]
  },
  {
   "cell_type": "markdown",
   "metadata": {},
   "source": [
    "![Water Quality](https://plus.unsplash.com/premium_photo-1710628263718-367b1cf5828f?q=80&w=2940&auto=format&fit=crop&ixlib=rb-4.0.3&ixid=M3wxMjA3fDB8MHxwaG90by1wYWdlfHx8fGVufDB8fHx8fA%3D%3D)"
   ]
  },
  {
   "cell_type": "markdown",
   "metadata": {},
   "source": [
    "---"
   ]
  },
  {
   "cell_type": "markdown",
   "metadata": {},
   "source": [
    "## Table of Contents and Deliverables\n",
    "1. <a href=\"#abstract\"><span style=\"color:red;\">Section 1:</span> Abstract</a>\n",
    "2. <a href=\"#project-background\"><span style=\"color:red;\">Section 2:</span> Project Background</a>\n",
    "3. <a href=\"#project-objective\"><span style=\"color:red;\">Section 3:</span> Project Objective</a>\n",
    "4. <a href=\"#input-data-description\"><span style=\"color:red;\">Section 4:</span> Input Data Description</a>\n",
    "5. <a href=\"#data-cleaning\"><span style=\"color:red;\">Section 5:</span> Data Cleaning</a>\n",
    "6. <a href=\"#eda\"><span style=\"color:red;\">Section 6:</span> Data Summary and Exploratory Data Analysis</a>\n",
    "7. <a href=\"#forecasting-modeling\"><span style=\"color:red;\">Section 7:</span> Forecasting and Prediction Modeling </a>\n",
    "   - <a href=\"#core-prediction\"><span style=\"color:red;\">Subsection 7.1:</span> Core Prediction Question</a>\n",
    "   - <a href=\"#supporting-prediction\"><span style=\"color:red;\">Subsection 7.2:</span> Supporting Question</a>\n",
    "   - <a href=\"#temporal-prediction\"><span style=\"color:red;\">Subsection 7.3:</span> Temporal Prediction Question</a>\n",
    "8. <a href=\"#conclusions\"><span style=\"color:red;\">Section 8:</span> Interpretation and Conclusions</a>\n",
    "9. <a href=\"#references\"><span style=\"color:red;\">Section 9:</span> Words Cited</a>"
   ]
  },
  {
   "cell_type": "markdown",
   "metadata": {},
   "source": [
    "---"
   ]
  },
  {
   "cell_type": "markdown",
   "metadata": {},
   "source": [
    "## <a id=\"abstract\"></a>Section 1: Abstract"
   ]
  },
  {
   "cell_type": "markdown",
   "metadata": {},
   "source": [
    "---"
   ]
  },
  {
   "cell_type": "markdown",
   "metadata": {},
   "source": [
    "## <a id=\"project-background\"></a>Section 2: Project Background"
   ]
  },
  {
   "cell_type": "markdown",
   "metadata": {},
   "source": [
    "---"
   ]
  },
  {
   "cell_type": "markdown",
   "metadata": {},
   "source": [
    "## <a id=\"project-objective\"></a>Section 3: Project Objective\n"
   ]
  },
  {
   "cell_type": "markdown",
   "metadata": {},
   "source": [
    "---"
   ]
  },
  {
   "cell_type": "markdown",
   "metadata": {},
   "source": [
    "## <a id=\"input-data-description\"></a>Section 4: Input Data Description"
   ]
  },
  {
   "cell_type": "markdown",
   "metadata": {},
   "source": [
    "---"
   ]
  },
  {
   "cell_type": "markdown",
   "metadata": {},
   "source": [
    "## <a id=\"data-cleaning\"></a>Section 5: Data Cleaning"
   ]
  },
  {
   "cell_type": "markdown",
   "metadata": {},
   "source": [
    "---"
   ]
  },
  {
   "cell_type": "markdown",
   "metadata": {},
   "source": [
    "## <a id=\"eda\"></a>Section 6: Data Summary and Exploratory Data Analysis"
   ]
  },
  {
   "cell_type": "markdown",
   "metadata": {},
   "source": [
    "---"
   ]
  },
  {
   "cell_type": "markdown",
   "metadata": {},
   "source": [
    "## <a id=\"forecasting-modeling\"></a>Section 7: Forecasting and Prediction Modeling"
   ]
  },
  {
   "cell_type": "markdown",
   "metadata": {},
   "source": [
    "---"
   ]
  },
  {
   "cell_type": "markdown",
   "metadata": {},
   "source": [
    "### <a id=\"core-prediction\"></a>Subsection 7.1: Core Prediction Question"
   ]
  },
  {
   "cell_type": "markdown",
   "metadata": {},
   "source": [
    "---"
   ]
  },
  {
   "cell_type": "markdown",
   "metadata": {},
   "source": [
    "### <a id=\"supporting-prediction\"></a>Subsection 7.2: Supporting Question"
   ]
  },
  {
   "cell_type": "markdown",
   "metadata": {},
   "source": [
    "---"
   ]
  },
  {
   "cell_type": "markdown",
   "metadata": {},
   "source": [
    "### <a id=\"temporal-prediction\"></a>Subsection 7.3: Temporal Prediction Question"
   ]
  },
  {
   "cell_type": "markdown",
   "metadata": {},
   "source": [
    "---"
   ]
  },
  {
   "cell_type": "markdown",
   "metadata": {},
   "source": [
    "## <a id=\"conclusions\"></a>Section 8: Interpretation and Conclusions"
   ]
  },
  {
   "cell_type": "markdown",
   "metadata": {},
   "source": [
    "---"
   ]
  },
  {
   "cell_type": "markdown",
   "metadata": {},
   "source": [
    "## <a id=\"references\"></a>Section 9: Words Cited"
   ]
  },
  {
   "cell_type": "markdown",
   "metadata": {},
   "source": [
    "---"
   ]
  }
 ],
 "metadata": {
  "language_info": {
   "name": "python"
  }
 },
 "nbformat": 4,
 "nbformat_minor": 2
}
