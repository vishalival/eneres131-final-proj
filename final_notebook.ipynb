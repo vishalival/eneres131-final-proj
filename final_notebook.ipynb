{
 "cells": [
  {
   "cell_type": "markdown",
   "metadata": {},
   "source": [
    "# Bay Area Water Quality Data Analysis\n",
    "### ENERES 131: Final Project\n",
    "\n",
    "#### Team Members: Damaris Arteaga,  Nidhi Nayak, Vishali Kirthi Vallioor, Timothy Zheng"
   ]
  },
  {
   "cell_type": "markdown",
   "metadata": {},
   "source": [
    "![Water Quality](https://plus.unsplash.com/premium_photo-1710628263718-367b1cf5828f?q=80&w=2940&auto=format&fit=crop&ixlib=rb-4.0.3&ixid=M3wxMjA3fDB8MHxwaG90by1wYWdlfHx8fGVufDB8fHx8fA%3D%3D)"
   ]
  },
  {
   "cell_type": "markdown",
   "metadata": {},
   "source": [
    "---"
   ]
  },
  {
   "cell_type": "markdown",
   "metadata": {},
   "source": [
    "## Table of Contents and Deliverables\n",
    "1. <a href=\"#abstract\"><span style=\"color:red;\">Section 1:</span> Project Contributions</a>\n",
    "2. <a href=\"#abstract\"><span style=\"color:red;\">Section 2:</span> Abstract</a>\n",
    "3. <a href=\"#project-background\"><span style=\"color:red;\">Section 3:</span> Project Background</a>\n",
    "4. <a href=\"#project-objective\"><span style=\"color:red;\">Section 4:</span> Project Objective</a>\n",
    "5. <a href=\"#input-data-description\"><span style=\"color:red;\">Section 5:</span> Input Data Description</a>\n",
    "6. <a href=\"#data-cleaning\"><span style=\"color:red;\">Section 6:</span> Data Cleaning</a>\n",
    "7. <a href=\"#eda\"><span style=\"color:red;\">Section 7:</span> Data Summary and Exploratory Data Analysis</a>\n",
    "8. <a href=\"#forecasting-modeling\"><span style=\"color:red;\">Section 8:</span> Forecasting and Prediction Modeling </a>\n",
    "   - <a href=\"#core-prediction\"><span style=\"color:red;\">Subsection 8.1:</span> Core Prediction Question</a>\n",
    "   - <a href=\"#supporting-prediction\"><span style=\"color:red;\">Subsection 8.2:</span> Supporting Question</a>\n",
    "   - <a href=\"#temporal-prediction\"><span style=\"color:red;\">Subsection 8.3:</span> Temporal Prediction Question</a>\n",
    "9. <a href=\"#conclusions\"><span style=\"color:red;\">Section 9:</span> Interpretation and Conclusions</a>\n",
    "10. <a href=\"#references\"><span style=\"color:red;\">Section 10:</span> Words Cited</a>"
   ]
  },
  {
   "cell_type": "markdown",
   "metadata": {},
   "source": [
    "---"
   ]
  },
  {
   "cell_type": "markdown",
   "metadata": {},
   "source": [
    "## <a id=\"abstract\"></a>Section 1: Project Contributions"
   ]
  },
  {
   "cell_type": "markdown",
   "metadata": {},
   "source": [
    "- #### Damaris Arteaga: ####\n",
    "  **Contributions:**\n",
    "\n",
    "  **Hours Contributed:**\n",
    "  \n",
    "- #### Nidhi Nayak: ####\n",
    "  **Contributions:**\n",
    "\n",
    "  **Hours Contributed:**\n",
    "  \n",
    "- #### Vishali Vallioor: ####\n",
    "  **Contributions:**\n",
    "\n",
    "  **Hours Contributed:**\n",
    "  \n",
    "- #### Timothy Zheng: ####\n",
    "  **Contributions:**\n",
    "\n",
    "  **Hours Contributed:**\n",
    "  "
   ]
  },
  {
   "cell_type": "markdown",
   "metadata": {},
   "source": [
    "---"
   ]
  },
  {
   "cell_type": "markdown",
   "metadata": {},
   "source": [
    "## <a id=\"abstract\"></a>Section 2: Abstract"
   ]
  },
  {
   "cell_type": "markdown",
   "metadata": {},
   "source": [
    "---"
   ]
  },
  {
   "cell_type": "markdown",
   "metadata": {},
   "source": [
    "## <a id=\"project-background\"></a>Section 3: Project Background"
   ]
  },
  {
   "cell_type": "markdown",
   "metadata": {},
   "source": [
    "The Bay Area, one of the most densely populated urban areas in California, is home to a variety of water bodies, including rivers, lakes, and coastal beaches, all of which play a critical role in supporting both human and wildlife populations. However, due to increasing urbanization, industrial activities, and climate changes, maintaining water quality here has proven to be a substantial challenge. Among the various water quality parameters, turbidity levels, Enterococcus levels, and dissolved oxygen (DO) concentrations are particularly important indicators of aquatic health and public safety.\n",
    "\n",
    "**Turbidity** refers to the cloudiness or haziness of water caused by the presence of suspended particles such as soil, algae, and organic matter. High turbidity can block sunlight, directly impacting aquatic plant life. It can also carry harmful pathogens and chemicals, impacting both the ecosystem and human health. In the Bay Area, turbidity levels fluctuate based on weather conditions, such as rainfall and stormwater runoff, which can cause large amounts of sediment to enter water bodies.  \n",
    "\n",
    "**Enterococcus** is a type of bacteria commonly found in human and animal waste. Elevated levels of Enterococcus in recreational waters are an indicator of possible fecal contamination. The presence of these bacteria signifies a high health risk, especially in recreational areas where people perform water-based activities like swimming or surfing. High concentrations of Enterococcus are correlated to numerous gastrointestinal illnesses, making it a key factor for beach monitoring. By assessing these levels in an accurate and timely manner, public health agencies can issue warnings and implement adequate safety measures.\n",
    "\n",
    "**Dissolved Oxygen (DO)** measures the amount of oxygen available for aquatic organisms, including fish, invertebrates, and plants. Adequate DO levels are essential for the survival of these organisms. However, fluctuations in DO can indicate problems such as excessive nutrient loading, algal blooms, or organic matter decomposition. Low DO levels, often referred to as hypoxia, can lead to \"dead zones,\" areas where aquatic life cannot thrive. In the Bay Area, DO levels are influenced by various factors like water temperature, salinity, and pollution. Monitoring DO levels is extremely important to maintain a balanced and thriving ecosystem and wildlife. \n",
    "\n",
    "Given the complex and interconnected nature of these three water quality parameters, it is of utmost importance to quantitatively analyze their fluctuations over time. Basic water quality monitoring revolves around periodic sampling, which, while providing valuable data, is unable to capture the trends and variability of these parameters. By performing advanced data analysis, we can predict these feature levels with greater accuracy and speed. This can aid policymakers, environmental agencies, and public health officials to make more informed decisions, issue timely warnings, and implement more effective water management practices.\n"
   ]
  },
  {
   "cell_type": "markdown",
   "metadata": {},
   "source": [
    "---"
   ]
  },
  {
   "cell_type": "markdown",
   "metadata": {},
   "source": [
    "## <a id=\"project-objective\"></a>Section 4: Project Objective\n"
   ]
  },
  {
   "cell_type": "markdown",
   "metadata": {},
   "source": [
    "---"
   ]
  },
  {
   "cell_type": "markdown",
   "metadata": {},
   "source": [
    "## <a id=\"input-data-description\"></a>Section 5: Input Data Description"
   ]
  },
  {
   "cell_type": "markdown",
   "metadata": {},
   "source": [
    "---"
   ]
  },
  {
   "cell_type": "markdown",
   "metadata": {},
   "source": [
    "## <a id=\"data-cleaning\"></a>Section 6: Data Cleaning"
   ]
  },
  {
   "cell_type": "markdown",
   "metadata": {},
   "source": [
    "---"
   ]
  },
  {
   "cell_type": "markdown",
   "metadata": {},
   "source": [
    "## <a id=\"eda\"></a>Section 7: Data Summary and Exploratory Data Analysis"
   ]
  },
  {
   "cell_type": "markdown",
   "metadata": {},
   "source": [
    "---"
   ]
  },
  {
   "cell_type": "markdown",
   "metadata": {},
   "source": [
    "## <a id=\"forecasting-modeling\"></a>Section 8: Forecasting and Prediction Modeling"
   ]
  },
  {
   "cell_type": "markdown",
   "metadata": {},
   "source": [
    "---"
   ]
  },
  {
   "cell_type": "markdown",
   "metadata": {},
   "source": [
    "### <a id=\"core-prediction\"></a>Subsection 8.1: Core Prediction Question"
   ]
  },
  {
   "cell_type": "markdown",
   "metadata": {},
   "source": [
    "---"
   ]
  },
  {
   "cell_type": "markdown",
   "metadata": {},
   "source": [
    "### <a id=\"supporting-prediction\"></a>Subsection 8.2: Supporting Question"
   ]
  },
  {
   "cell_type": "markdown",
   "metadata": {},
   "source": [
    "---"
   ]
  },
  {
   "cell_type": "markdown",
   "metadata": {},
   "source": [
    "### <a id=\"temporal-prediction\"></a>Subsection 8.3: Temporal Prediction Question"
   ]
  },
  {
   "cell_type": "markdown",
   "metadata": {},
   "source": [
    "---"
   ]
  },
  {
   "cell_type": "markdown",
   "metadata": {},
   "source": [
    "## <a id=\"conclusions\"></a>Section 9: Interpretation and Conclusions"
   ]
  },
  {
   "cell_type": "markdown",
   "metadata": {},
   "source": [
    "---"
   ]
  },
  {
   "cell_type": "markdown",
   "metadata": {},
   "source": [
    "## <a id=\"references\"></a>Section 10: Works Cited"
   ]
  },
  {
   "cell_type": "markdown",
   "metadata": {},
   "source": [
    "---"
   ]
  }
 ],
 "metadata": {
  "kernelspec": {
   "display_name": "Python 3 (ipykernel)",
   "language": "python",
   "name": "python3"
  },
  "language_info": {
   "codemirror_mode": {
    "name": "ipython",
    "version": 3
   },
   "file_extension": ".py",
   "mimetype": "text/x-python",
   "name": "python",
   "nbconvert_exporter": "python",
   "pygments_lexer": "ipython3",
   "version": "3.11.10"
  }
 },
 "nbformat": 4,
 "nbformat_minor": 4
}
