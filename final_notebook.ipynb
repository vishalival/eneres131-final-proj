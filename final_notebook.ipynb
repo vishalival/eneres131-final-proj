{
 "cells": [
  {
   "cell_type": "markdown",
   "metadata": {},
   "source": [
    "## Water Quality Data Analysis\n",
    "### ENERES 131: Final Project\n",
    "Team Members: Nidhi Nayak, Vishali Kirthi Vallioor, Damaris Arteaga, Timothy Zheng"
   ]
  },
  {
   "cell_type": "markdown",
   "metadata": {},
   "source": [
    "![Water Quality](https://plus.unsplash.com/premium_photo-1710628263718-367b1cf5828f?q=80&w=2940&auto=format&fit=crop&ixlib=rb-4.0.3&ixid=M3wxMjA3fDB8MHxwaG90by1wYWdlfHx8fGVufDB8fHx8fA%3D%3D)"
   ]
  },
  {
   "cell_type": "markdown",
   "metadata": {},
   "source": [
    "## Table of Contents and Deliverables\n",
    "1. <a href=\"#replicability-and-documentation\"><span style=\"color:red;\">Deliverable 1:</span> - Abstract</a>\n",
    "2. <a href=\"#document-goals\"><span style=\"color:red;\">Deliverable 2:</span> - Project Background</a>\n",
    "3. <a href=\"#choice-of-a-dataset\"><span style=\"color:red;\">Deliverable 3:</span> - Project Objective</a>\n",
    "4. <a href=\"#estimate-demand-system\"><span style=\"color:red;\">Deliverable 4:</span> - Input Data Description/a>\n",
    "5. <a href=\"#construct-nutrient-system\"><span style=\"color:red;\">Deliverable 5:</span> - Data Cleaning</a>\n",
    "6. <a href=\"#nutritional-challenges-and-policy-goal\"><span style=\"color:red;\">Deliverable 6:</span> - Data Summary and Exploratory Data Analysis</a>\n",
    "7. <a href=\"#policy-options\"><span style=\"color:red;\">Deliverable 7:</span> - Forecasting and Prediction Modeling </a>\n",
    "   - <a href=\"#policy-options-1\"><span style=\"color:red;\">Predictive Question 1:</span> Core Prediction Question</a>\n",
    "   - <a href=\"#policy-options-2\"><span style=\"color:red;\">Predictive Question 2:</span> Supporting Question</a>\n",
    "   - <a href=\"#policy-options-3\"><span style=\"color:red;\">Predictive Question 3:</span> Temporal Prediction Question</a>\n",
    "8. <a href=\"#policy-cost\"><span style=\"color:red;\">Deliverable 8:</span> - Interpretation and Conclusions</a>\n",
    "9. <a href=\"#value-of-technical-innovation\">Words Cited</a>"
   ]
  },
  {
   "cell_type": "markdown",
   "metadata": {},
   "source": []
  }
 ],
 "metadata": {
  "language_info": {
   "name": "python"
  }
 },
 "nbformat": 4,
 "nbformat_minor": 2
}
