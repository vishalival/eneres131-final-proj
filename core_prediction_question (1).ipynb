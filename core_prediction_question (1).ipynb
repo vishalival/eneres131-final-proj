{
 "cells": [
  {
   "cell_type": "markdown",
   "metadata": {},
   "source": [
    "### Core Prediction Question\n",
    "*Develop a predictive model to estimate the water Sodium levels of rivers and lakes based on parameters like features like CO2 levels, turbidity, dissolved oxygen, and contaminant levels.*\n",
    "\n",
    "Authors: Nidhi Nayak, Vishali Kirthi Vallioor\n",
    "ENERES 131 Final Project"
   ]
  },
  {
   "cell_type": "markdown",
   "metadata": {},
   "source": [
    "#### Reading In Our Data Sets"
   ]
  },
  {
   "cell_type": "code",
   "execution_count": null,
   "metadata": {},
   "outputs": [],
   "source": [
    "import zipfile\n",
    "import pandas as pd\n",
    "import matplotlib.pyplot as plt\n",
    "import seaborn as sns\n",
    "import numpy as np\n",
    "\n",
    "df = pd.read_csv(\"final_data/water_quality.csv\")\n",
    "df.head()"
   ]
  },
  {
   "cell_type": "code",
   "execution_count": null,
   "metadata": {},
   "outputs": [],
   "source": [
    "#printing the different characteristic names to identify necessary ones for pH level predictions\n",
    "df.columns.unique()"
   ]
  },
  {
   "cell_type": "code",
   "execution_count": null,
   "metadata": {},
   "outputs": [],
   "source": [
    "#identifying relevant features to predict pH levels (after doing research)\n",
    "relevant_sodium_characteristics = ['Turbidity', 'Calcium', 'Magnesium', 'Carbon dioxide', 'Sodium', 'Hardness, Ca, Mg', \n",
    "                                   'Organic carbon', 'Silica', 'Chloride', 'Arsenic']\n",
    "filtered_sodium_dataframe = df[relevant_sodium_characteristics]\n",
    "print(filtered_sodium_dataframe)"
   ]
  },
  {
   "cell_type": "code",
   "execution_count": null,
   "metadata": {},
   "outputs": [],
   "source": [
    "print(\"Basic Info about the Dataset: \")\n",
    "print(filtered_sodium_dataframe.info())\n",
    "\n",
    "print(\"\\nNaN Count In Water Potability Dataset: \")\n",
    "print(filtered_sodium_dataframe.isnull().sum())\n",
    "\n",
    "print(\"\\nDataset Described (Stats): \")\n",
    "print(filtered_sodium_dataframe.describe())\n",
    "\n",
    "print(\"\\nSum of null values in columns: \")\n",
    "print(filtered_sodium_dataframe.isnull().sum())"
   ]
  },
  {
   "cell_type": "code",
   "execution_count": null,
   "metadata": {},
   "outputs": [],
   "source": [
    "#replacing null values with the mean value for EDA\n",
    "filtered_sodium_dataframe_nan_vals = filtered_sodium_dataframe.fillna(filtered_sodium_dataframe.mean())"
   ]
  },
  {
   "cell_type": "markdown",
   "metadata": {},
   "source": [
    "### EDA"
   ]
  },
  {
   "cell_type": "markdown",
   "metadata": {},
   "source": [
    "#### Correlation of All Relevant Variables"
   ]
  },
  {
   "cell_type": "code",
   "execution_count": null,
   "metadata": {
    "scrolled": true
   },
   "outputs": [],
   "source": [
    "plt.figure(figsize=(12, 8))\n",
    "corr_matrix = filtered_sodium_dataframe_nan_vals.corr()\n",
    "sns.heatmap(corr_matrix, annot=True, cmap='rocket', fmt='.2f', linewidths=0.5)\n",
    "plt.title('Correlation Matrix Between Relevant Features')"
   ]
  },
  {
   "cell_type": "markdown",
   "metadata": {},
   "source": [
    "### Exploring Sodium Relationships In Depth"
   ]
  },
  {
   "cell_type": "code",
   "execution_count": null,
   "metadata": {},
   "outputs": [],
   "source": [
    "dropped_nan_sodium = filtered_sodium_dataframe['Sodium'].dropna()\n",
    "filtered_sodium_log = np.log1p(dropped_nan_sodium)\n",
    "\n",
    "sns.histplot(filtered_sodium_log, kde=True, color='orange')\n",
    "plt.title('Log-Transformed Distribution of Sodium Levels')\n",
    "plt.xlabel('Log Sodium')\n",
    "plt.ylabel('Frequency')\n",
    "plt.show()"
   ]
  },
  {
   "cell_type": "code",
   "execution_count": null,
   "metadata": {},
   "outputs": [],
   "source": [
    "plt.figure(figsize=(10, 5))\n",
    "\n",
    "dropped_nan_sodium_calcium = filtered_sodium_dataframe[['Sodium', 'Calcium']].dropna()\n",
    "plt.subplot(1, 2, 1)\n",
    "sns.scatterplot(data=dropped_nan_sodium_calcium, x='Calcium', y='Sodium', color='orange')\n",
    "plt.title('Sodium vs Calcium')\n",
    "\n",
    "dropped_nan_sodium_magnesium = filtered_sodium_dataframe[['Sodium', 'Magnesium']].dropna()\n",
    "plt.subplot(1, 2, 2)\n",
    "sns.scatterplot(data=dropped_nan_sodium_magnesium, x='Magnesium', y='Sodium', color='purple')\n",
    "plt.title('Sodium vs Magnesium')\n",
    "\n",
    "plt.tight_layout()\n",
    "plt.show()"
   ]
  },
  {
   "cell_type": "code",
   "execution_count": null,
   "metadata": {},
   "outputs": [],
   "source": [
    "plt.figure(figsize=(10, 5))\n",
    "\n",
    "dropped_nan_sodium_turbidity = filtered_sodium_dataframe[['Sodium', 'Turbidity']].dropna()\n",
    "plt.subplot(1, 2, 1)\n",
    "sns.scatterplot(data=dropped_nan_sodium_turbidity, x='Turbidity', y='Sodium', color='purple')\n",
    "plt.title('Sodium vs Turbidity')\n",
    "\n",
    "dropped_nan_sodium_carbon_dioxide = filtered_sodium_dataframe[['Sodium', 'Carbon dioxide']].dropna()\n",
    "plt.subplot(1, 2, 2)\n",
    "sns.scatterplot(data=dropped_nan_sodium_carbon_dioxide, x='Carbon dioxide', y='Sodium', color='orange')\n",
    "plt.title('Sodium vs Carbon dioxide')\n",
    "\n",
    "plt.tight_layout()\n",
    "plt.show()"
   ]
  },
  {
   "cell_type": "code",
   "execution_count": null,
   "metadata": {},
   "outputs": [],
   "source": [
    "plt.figure(figsize=(10, 5))\n",
    "\n",
    "dropped_nan_sodium_hardness = filtered_sodium_dataframe[['Sodium', 'Hardness, Ca, Mg']].dropna()\n",
    "plt.subplot(1, 2, 1)\n",
    "sns.scatterplot(data=dropped_nan_sodium_hardness, x='Hardness, Ca, Mg', y='Sodium', color='orange')\n",
    "plt.title('Sodium vs Hardness, Ca, Mg')\n",
    "\n",
    "dropped_nan_sodium_organic_carbon = filtered_sodium_dataframe[['Sodium', 'Organic carbon']].dropna()\n",
    "plt.subplot(1, 2, 2)\n",
    "sns.scatterplot(data=dropped_nan_sodium_organic_carbon, x='Organic carbon', y='Sodium', color='purple')\n",
    "plt.title('Sodium vs Organic Carbon')\n",
    "\n",
    "plt.tight_layout()\n",
    "plt.show()"
   ]
  },
  {
   "cell_type": "code",
   "execution_count": null,
   "metadata": {},
   "outputs": [],
   "source": [
    "plt.figure(figsize=(10, 5))\n",
    "\n",
    "dropped_nan_sodium_silica = filtered_sodium_dataframe[['Sodium', 'Silica']].dropna()\n",
    "plt.subplot(1, 2, 1)\n",
    "sns.scatterplot(data=dropped_nan_sodium_silica, x='Silica', y='Sodium', color='purple')\n",
    "plt.title('Sodium vs Silica')\n",
    "\n",
    "dropped_nan_sodium_chloride = filtered_sodium_dataframe[['Sodium', 'Chloride']].dropna()\n",
    "plt.subplot(1, 2, 2)\n",
    "sns.scatterplot(data=dropped_nan_sodium_chloride, x='Chloride', y='Sodium', color='orange')\n",
    "plt.title('Sodium vs Chloride')\n",
    "\n",
    "plt.tight_layout()\n",
    "plt.show()"
   ]
  }
 ],
 "metadata": {
  "kernelspec": {
   "display_name": "Python 3 (ipykernel)",
   "language": "python",
   "name": "python3"
  },
  "language_info": {
   "codemirror_mode": {
    "name": "ipython",
    "version": 3
   },
   "file_extension": ".py",
   "mimetype": "text/x-python",
   "name": "python",
   "nbconvert_exporter": "python",
   "pygments_lexer": "ipython3",
   "version": "3.11.10"
  }
 },
 "nbformat": 4,
 "nbformat_minor": 4
}
